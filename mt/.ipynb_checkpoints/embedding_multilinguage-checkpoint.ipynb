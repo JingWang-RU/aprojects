{
 "cells": [
  {
   "cell_type": "code",
   "execution_count": 46,
   "metadata": {},
   "outputs": [],
   "source": [
    "#date: Aug. 5th 2020\n",
    "#load data\n",
    "#bert embedding\n",
    "#save feature to csv\n",
    "import os\n",
    "import numpy as np\n",
    "from collections import defaultdict \n",
    "from bert_serving.client import BertClient\n",
    "\n",
    "rawdata_path = '/tmp/dev/'\n",
    "rawfiles = os.listdir(rawdata_path)\n",
    "\n",
    "dict_file = defaultdict(list)\n",
    "for file in rawfiles:\n",
    "    if not file.endswith(\".sgm\") and len(file.split('.'))==2:\n",
    "        tmp = file.split('.')\n",
    "        dict_file[tmp[1]].append(file)\n",
    "\n",
    "#save feature to csv\n",
    "\n"
   ]
  },
  {
   "cell_type": "code",
   "execution_count": 76,
   "metadata": {},
   "outputs": [
    {
     "data": {
      "text/plain": [
       "defaultdict(list,\n",
       "            {'en': ['newssyscomb2009.en',\n",
       "              'newstest2011.en',\n",
       "              'newstest2013.en',\n",
       "              'newstest2010.en',\n",
       "              'news-test2008.en',\n",
       "              'newsdev2014.en',\n",
       "              'newstest2009.en',\n",
       "              'newstest2012.en'],\n",
       "             'de': ['newstest2010.de',\n",
       "              'newssyscomb2009.de',\n",
       "              'newstest2012.de',\n",
       "              'newstest2009.de',\n",
       "              'newstest2011.de',\n",
       "              'news-test2008.de',\n",
       "              'newstest2013.de'],\n",
       "             'cs': ['newstest2010.cs',\n",
       "              'newstest2012.cs',\n",
       "              'news-test2008.cs',\n",
       "              'newstest2013.cs',\n",
       "              'newstest2011.cs',\n",
       "              'newssyscomb2009.cs',\n",
       "              'newstest2009.cs'],\n",
       "             'fr': ['newstest2010.fr',\n",
       "              'newstest2012.fr',\n",
       "              'newssyscomb2009.fr',\n",
       "              'news-test2008.fr',\n",
       "              'newstest2009.fr',\n",
       "              'newstest2013.fr',\n",
       "              'newstest2011.fr'],\n",
       "             'ru': ['newstest2013.ru', 'newstest2012.ru'],\n",
       "             'es': ['newstest2010.es',\n",
       "              'newssyscomb2009.es',\n",
       "              'newstest2012.es',\n",
       "              'news-test2008.es',\n",
       "              'newstest2011.es',\n",
       "              'newstest2013.es',\n",
       "              'newstest2009.es'],\n",
       "             'hi': ['newsdev2014.hi']})"
      ]
     },
     "execution_count": 76,
     "metadata": {},
     "output_type": "execute_result"
    }
   ],
   "source": [
    "dict_file"
   ]
  },
  {
   "cell_type": "code",
   "execution_count": 81,
   "metadata": {},
   "outputs": [
    {
     "name": "stderr",
     "output_type": "stream",
     "text": [
      "/home/ubuntu/anaconda3/envs/tensorflow_p36/lib/python3.6/site-packages/bert_serving/client/__init__.py:299: UserWarning: some of your sentences have more tokens than \"max_seq_len=25\" set on the server, as consequence you may get less-accurate or truncated embeddings.\n",
      "here is what you can do:\n",
      "- disable the length-check by create a new \"BertClient(check_length=False)\" when you do not want to display this warning\n",
      "- or, start a new server with a larger \"max_seq_len\"\n",
      "  '- or, start a new server with a larger \"max_seq_len\"' % self.length_limit)\n"
     ]
    }
   ],
   "source": [
    "raw_file = 'newstest2012.es'\n",
    "with open(os.path.join(rawdata_path, raw_file)) as f:\n",
    "    string_rawfile = f.read().splitlines() \n",
    "    #bert embedding\n",
    "bc = BertClient()\n",
    "data_feature = bc.encode(string_rawfile)\n",
    "\n",
    "save_path = './MT/bertfeature'\n",
    "save_file = 'multi_' + raw_file + '_768.csv'\n",
    "np.savetxt(os.path.join(save_path, save_file), data_feature,\\\n",
    "           delimiter = \",\")"
   ]
  },
  {
   "cell_type": "code",
   "execution_count": 86,
   "metadata": {},
   "outputs": [
    {
     "data": {
      "text/plain": [
       "(768,)"
      ]
     },
     "execution_count": 86,
     "metadata": {},
     "output_type": "execute_result"
    }
   ],
   "source": [
    "a,b = data_feature.shape\n",
    "data_feature.mean(0).shape"
   ]
  },
  {
   "cell_type": "code",
   "execution_count": 91,
   "metadata": {},
   "outputs": [
    {
     "data": {
      "text/plain": [
       "array([[0.63170208, 0.7824775 , 0.18518925],\n",
       "       [0.24958902, 0.42561068, 0.27325169],\n",
       "       [0.27048482, 0.66449347, 0.49204402],\n",
       "       [0.58795843, 0.07117014, 0.54963398],\n",
       "       [0.53697929, 0.21446173, 0.26791262]])"
      ]
     },
     "execution_count": 91,
     "metadata": {},
     "output_type": "execute_result"
    }
   ],
   "source": [
    "a=np.random.rand(5,3)\n",
    "a"
   ]
  },
  {
   "cell_type": "code",
   "execution_count": 116,
   "metadata": {},
   "outputs": [],
   "source": [
    "from sklearn.decomposition import TruncatedSVD\n",
    "A = np.array([[1,2,3,4,5,6,7,8,9,10],\n",
    "           [11,12,13,14,15,16,17,18,19,20],\n",
    "           [21,22,23,24,25,26,27,28,29,30]])\n",
    "svd = TruncatedSVD(n_components=2)\n",
    "svd.fit(A)\n",
    "u = svd.transform(A)"
   ]
  },
  {
   "cell_type": "code",
   "execution_count": 128,
   "metadata": {},
   "outputs": [
    {
     "ename": "TypeError",
     "evalue": "list indices must be integers or slices, not tuple",
     "output_type": "error",
     "traceback": [
      "\u001b[0;31m---------------------------------------------------------------------------\u001b[0m",
      "\u001b[0;31mTypeError\u001b[0m                                 Traceback (most recent call last)",
      "\u001b[0;32m<ipython-input-128-79cd30c387b5>\u001b[0m in \u001b[0;36m<module>\u001b[0;34m()\u001b[0m\n\u001b[1;32m      3\u001b[0m \u001b[0;31m# result.shape\u001b[0m\u001b[0;34m\u001b[0m\u001b[0;34m\u001b[0m\u001b[0m\n\u001b[1;32m      4\u001b[0m \u001b[0mprojecteddata\u001b[0m \u001b[0;34m=\u001b[0m \u001b[0;34m[\u001b[0m\u001b[0;34m[\u001b[0m\u001b[0;36m95\u001b[0m\u001b[0;34m,\u001b[0m\u001b[0;36m45\u001b[0m\u001b[0;34m,\u001b[0m\u001b[0;36m92\u001b[0m\u001b[0;34m,\u001b[0m\u001b[0;36m41\u001b[0m\u001b[0;34m,\u001b[0m\u001b[0;36m13\u001b[0m\u001b[0;34m,\u001b[0m\u001b[0;36m1\u001b[0m\u001b[0;34m,\u001b[0m\u001b[0;36m84\u001b[0m\u001b[0;34m]\u001b[0m\u001b[0;34m,\u001b[0m \u001b[0;34m[\u001b[0m\u001b[0;36m95\u001b[0m\u001b[0;34m,\u001b[0m\u001b[0;36m7\u001b[0m\u001b[0;34m,\u001b[0m\u001b[0;36m73\u001b[0m\u001b[0;34m,\u001b[0m\u001b[0;36m89\u001b[0m\u001b[0;34m,\u001b[0m\u001b[0;36m20\u001b[0m\u001b[0;34m,\u001b[0m\u001b[0;36m74\u001b[0m\u001b[0;34m,\u001b[0m\u001b[0;36m52\u001b[0m\u001b[0;34m]\u001b[0m\u001b[0;34m,\u001b[0m\u001b[0;34m[\u001b[0m\u001b[0;36m95\u001b[0m\u001b[0;34m,\u001b[0m\u001b[0;36m7\u001b[0m\u001b[0;34m,\u001b[0m\u001b[0;36m73\u001b[0m\u001b[0;34m,\u001b[0m\u001b[0;36m5\u001b[0m\u001b[0;34m,\u001b[0m\u001b[0;36m19\u001b[0m\u001b[0;34m,\u001b[0m\u001b[0;36m44\u001b[0m\u001b[0;34m,\u001b[0m\u001b[0;36m20\u001b[0m\u001b[0;34m]\u001b[0m\u001b[0;34m,\u001b[0m\u001b[0;34m[\u001b[0m\u001b[0;36m95\u001b[0m\u001b[0;34m,\u001b[0m\u001b[0;36m7\u001b[0m\u001b[0;34m,\u001b[0m\u001b[0;36m40\u001b[0m\u001b[0;34m,\u001b[0m\u001b[0;36m35\u001b[0m\u001b[0;34m,\u001b[0m\u001b[0;36m60\u001b[0m\u001b[0;34m,\u001b[0m\u001b[0;36m93\u001b[0m\u001b[0;34m,\u001b[0m\u001b[0;36m67\u001b[0m\u001b[0;34m]\u001b[0m\u001b[0;34m,\u001b[0m\u001b[0;34m[\u001b[0m\u001b[0;36m76\u001b[0m\u001b[0;34m,\u001b[0m\u001b[0;36m61\u001b[0m\u001b[0;34m,\u001b[0m\u001b[0;36m93\u001b[0m\u001b[0;34m,\u001b[0m\u001b[0;36m81\u001b[0m\u001b[0;34m,\u001b[0m\u001b[0;36m27\u001b[0m\u001b[0;34m,\u001b[0m\u001b[0;36m46\u001b[0m\u001b[0;34m,\u001b[0m\u001b[0;36m83\u001b[0m\u001b[0;34m]\u001b[0m\u001b[0;34m,\u001b[0m\u001b[0;34m[\u001b[0m\u001b[0;36m76\u001b[0m\u001b[0;34m,\u001b[0m\u001b[0;36m79\u001b[0m\u001b[0;34m,\u001b[0m\u001b[0;36m91\u001b[0m\u001b[0;34m,\u001b[0m\u001b[0;36m0\u001b[0m\u001b[0;34m,\u001b[0m\u001b[0;36m19\u001b[0m\u001b[0;34m,\u001b[0m\u001b[0;36m41\u001b[0m\u001b[0;34m,\u001b[0m\u001b[0;36m1\u001b[0m\u001b[0;34m]\u001b[0m\u001b[0;34m]\u001b[0m\u001b[0;34m\u001b[0m\u001b[0m\n\u001b[0;32m----> 5\u001b[0;31m \u001b[0;34m[\u001b[0m\u001b[0mprojecteddata\u001b[0m\u001b[0;34m[\u001b[0m\u001b[0;34m:\u001b[0m\u001b[0;34m,\u001b[0m\u001b[0;36m0\u001b[0m\u001b[0;34m]\u001b[0m\u001b[0;34m.\u001b[0m\u001b[0margsort\u001b[0m\u001b[0;34m(\u001b[0m\u001b[0;34m)\u001b[0m\u001b[0;34m,\u001b[0m\u001b[0;34m]\u001b[0m\u001b[0;34m\u001b[0m\u001b[0m\n\u001b[0m",
      "\u001b[0;31mTypeError\u001b[0m: list indices must be integers or slices, not tuple"
     ]
    }
   ],
   "source": [
    "# svd.singular_values_[0]\n",
    "# result = svd.transform(A)\n",
    "# result.shape\n",
    "projecteddata = [[95,45,92,41,13,1,84], [95,7,73,89,20,74,52],[95,7,73,5,19,44,20],[95,7,40,35,60,93,67],[76,61,93,81,27,46,83],[76,79,91,0,19,41,1]]\n",
    "[projecteddata[:,0].argsort(),]"
   ]
  },
  {
   "cell_type": "code",
   "execution_count": 136,
   "metadata": {},
   "outputs": [
    {
     "data": {
      "text/plain": [
       "array([0.38596095, 0.39046068, 0.48499044])"
      ]
     },
     "execution_count": 136,
     "metadata": {},
     "output_type": "execute_result"
    }
   ],
   "source": [
    "projecteddata=np.array(projecteddata)\n",
    "projecteddata[:,1]"
   ]
  },
  {
   "cell_type": "code",
   "execution_count": 139,
   "metadata": {},
   "outputs": [
    {
     "data": {
      "text/plain": [
       "array([[ 1,  2, 11, 32],\n",
       "       [ 3,  4, 13, 42]])"
      ]
     },
     "execution_count": 139,
     "metadata": {},
     "output_type": "execute_result"
    }
   ],
   "source": [
    "a = np.array([[1, 2], [3, 4]])\n",
    "b = np.array([[11, 32], [13, 42]])\n",
    "c=np.concatenate((a,b),axis=1)\n",
    "d=c[c[:,0].argsort(),]\n",
    "d"
   ]
  },
  {
   "cell_type": "code",
   "execution_count": 163,
   "metadata": {},
   "outputs": [
    {
     "data": {
      "text/plain": [
       "array([[ 1,  2, 11, 32],\n",
       "       [ 3,  4, 13, 42],\n",
       "       [ 3,  2,  5,  6],\n",
       "       [ 3,  2,  5,  6]])"
      ]
     },
     "execution_count": 163,
     "metadata": {},
     "output_type": "execute_result"
    }
   ],
   "source": [
    "# import math\n",
    "# x=0.35\n",
    "# # math.erfc(x)\n",
    "# # np.log(x)\n",
    "# if x==0.35 or x==0.1:\n",
    "#     y=3\n",
    "d = np.array([[3,2,5,6]])\n",
    "c.shape\n",
    "d.shape\n",
    "c=np.concatenate((c,d),axis=0)\n",
    "c"
   ]
  },
  {
   "cell_type": "code",
   "execution_count": 166,
   "metadata": {},
   "outputs": [
    {
     "data": {
      "text/plain": [
       "array([[13, 42],\n",
       "       [ 5,  6]])"
      ]
     },
     "execution_count": 166,
     "metadata": {},
     "output_type": "execute_result"
    }
   ],
   "source": [
    "c[1:3, 2:]"
   ]
  }
 ],
 "metadata": {
  "kernelspec": {
   "display_name": "Python 3",
   "language": "python",
   "name": "python3"
  },
  "language_info": {
   "codemirror_mode": {
    "name": "ipython",
    "version": 3
   },
   "file_extension": ".py",
   "mimetype": "text/x-python",
   "name": "python",
   "nbconvert_exporter": "python",
   "pygments_lexer": "ipython3",
   "version": "3.7.4"
  }
 },
 "nbformat": 4,
 "nbformat_minor": 2
}
