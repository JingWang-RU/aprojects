{
 "cells": [
  {
   "cell_type": "code",
   "execution_count": 2,
   "metadata": {},
   "outputs": [],
   "source": [
    "import seaborn as sns\n",
    "import pandas as pd\n",
    "import matplotlib.pyplot as plt\n",
    "import numpy as np\n",
    "import time\n",
    "from numpy import loadtxt\n",
    "import jsonlines as js\n",
    "import os\n",
    "def read_log(beyond_mlp_cifar):\n",
    "    beyond_mlp_cifar_label = [] \n",
    "    beyond_mlp_cifar_acc = [] \n",
    "    with open(beyond_mlp_cifar, \"r\") as f: \n",
    "        lines = f.readlines() \n",
    "        for line in lines: \n",
    "            if \"testing accuracy\" in line: \n",
    "                acc_label = line.split() \n",
    "                beyond_mlp_cifar_label.append(int(acc_label[0])) \n",
    "                beyond_mlp_cifar_acc.append(float(acc_label[3]))\n",
    "    return beyond_mlp_cifar_label, beyond_mlp_cifar_acc\n",
    "\n",
    "def read_rc(beyond_mlp_cifar):\n",
    "    label = []\n",
    "    em = [] \n",
    "    f1 = [] \n",
    "    \n",
    "    with js.open(beyond_mlp_cifar, \"r\") as f: \n",
    "        for line in f: \n",
    "                label.append(line['round'] )\n",
    "                em.append(line['exact']) \n",
    "                f1.append(line['f1'])\n",
    "    return label, em, f1\n",
    "\n",
    "def read_rc_log(beyond_mlp_cifar, flag=0):\n",
    "    if not os.path.isfile(beyond_mlp_cifar):\n",
    "        print(\"no file\")\n",
    "        return\n",
    "#     print(beyond_mlp_cifar)\n",
    "    rd = []\n",
    "    em=[]\n",
    "    fs=[]\n",
    "    with open(beyond_mlp_cifar, \"r\") as f: \n",
    "        lines = f.readlines() \n",
    "        for line in lines: \n",
    "            if \"exact\" in line: \n",
    "                tmp = line.split() \n",
    "                \n",
    "                rd.append(int(tmp[1]))\n",
    "                em.append(float(tmp[3])) \n",
    "                fs.append(float(tmp[5]))\n",
    "                if flag==1:\n",
    "                    print('rd {} em {:2f} fs {:2f}'.format(int(tmp[1]), float(tmp[3]), float(tmp[5])))\n",
    "    return rd, em, fs\n"
   ]
  },
  {
   "cell_type": "code",
   "execution_count": 5,
   "metadata": {},
   "outputs": [
    {
     "ename": "FileNotFoundError",
     "evalue": "[Errno 2] No such file or directory: './nq/search'",
     "output_type": "error",
     "traceback": [
      "\u001b[0;31m-----------------------------------------------------------\u001b[0m",
      "\u001b[0;31mFileNotFoundError\u001b[0m         Traceback (most recent call last)",
      "\u001b[0;32m<ipython-input-5-974f4595415f>\u001b[0m in \u001b[0;36m<module>\u001b[0;34m\u001b[0m\n\u001b[1;32m      6\u001b[0m \u001b[0mflag\u001b[0m\u001b[0;34m=\u001b[0m\u001b[0;36m0\u001b[0m\u001b[0;34m\u001b[0m\u001b[0;34m\u001b[0m\u001b[0m\n\u001b[1;32m      7\u001b[0m \u001b[0;32mfor\u001b[0m \u001b[0mpath\u001b[0m \u001b[0;32min\u001b[0m \u001b[0mpaths\u001b[0m\u001b[0;34m:\u001b[0m\u001b[0;34m\u001b[0m\u001b[0;34m\u001b[0m\u001b[0m\n\u001b[0;32m----> 8\u001b[0;31m     \u001b[0;32mfor\u001b[0m \u001b[0mfile\u001b[0m \u001b[0;32min\u001b[0m \u001b[0mos\u001b[0m\u001b[0;34m.\u001b[0m\u001b[0mlistdir\u001b[0m\u001b[0;34m(\u001b[0m\u001b[0mpath\u001b[0m\u001b[0;34m)\u001b[0m\u001b[0;34m:\u001b[0m\u001b[0;34m\u001b[0m\u001b[0;34m\u001b[0m\u001b[0m\n\u001b[0m\u001b[1;32m      9\u001b[0m         \u001b[0mf1\u001b[0m \u001b[0;34m=\u001b[0m \u001b[0mos\u001b[0m\u001b[0;34m.\u001b[0m\u001b[0mpath\u001b[0m\u001b[0;34m.\u001b[0m\u001b[0mjoin\u001b[0m\u001b[0;34m(\u001b[0m\u001b[0mpath\u001b[0m\u001b[0;34m,\u001b[0m \u001b[0mfile\u001b[0m\u001b[0;34m)\u001b[0m\u001b[0;34m\u001b[0m\u001b[0;34m\u001b[0m\u001b[0m\n\u001b[1;32m     10\u001b[0m         \u001b[0;32mif\u001b[0m \u001b[0;34m'.log'\u001b[0m \u001b[0;32min\u001b[0m \u001b[0mf1\u001b[0m\u001b[0;34m:\u001b[0m\u001b[0;34m\u001b[0m\u001b[0;34m\u001b[0m\u001b[0m\n",
      "\u001b[0;31mFileNotFoundError\u001b[0m: [Errno 2] No such file or directory: './nq/search'"
     ]
    }
   ],
   "source": [
    "dataset = 'nq'\n",
    "paths = ['./' + dataset +'/'+'search', './' + dataset +'/'+'emnlp', \\\n",
    "         './' + dataset +'/'+'4gpu']\n",
    "\n",
    "\n",
    "flag=0\n",
    "for path in paths:\n",
    "    for file in os.listdir(path):\n",
    "        f1 = os.path.join(path, file)\n",
    "        if '.log' in f1:\n",
    "            r1, em1, fs1 = read_rc_log(f1,flag)\n",
    "            if len(r1)==0:\n",
    "                os.remove(f1)\n",
    "#             print(f1, len(r1))\n",
    "# print(f1)\n",
    "\n",
    "\n",
    "# f1 = os.path.join(path, '1_least_0.01_2_3e-05_sub0_run.log')\n",
    "# r1, em1, fs1 = read_rc_log(f1,flag)\n",
    "# print(f1, len(r1))\n",
    "# f1 = os.path.join(path, '1_margin_0.01_2_3e-05_sub0_run.log')\n",
    "# r1, em1, fs1 = read_rc_log(f1,flag)\n",
    "# print(f1, len(r1))\n",
    "# f1 = os.path.join(path, '1_random_0.01_2_3e-05_sub0_run.log')\n",
    "# r1, em1, fs1 = read_rc_log(f1,flag)\n",
    "# print(f1, len(r1))\n"
   ]
  },
  {
   "cell_type": "code",
   "execution_count": 6,
   "metadata": {
    "scrolled": true
   },
   "outputs": [
    {
     "ename": "FileNotFoundError",
     "evalue": "[Errno 2] No such file or directory: './newsqa/search'",
     "output_type": "error",
     "traceback": [
      "\u001b[0;31m-----------------------------------------------------------\u001b[0m",
      "\u001b[0;31mFileNotFoundError\u001b[0m         Traceback (most recent call last)",
      "\u001b[0;32m<ipython-input-6-fc130a610bde>\u001b[0m in \u001b[0;36m<module>\u001b[0;34m\u001b[0m\n\u001b[1;32m      7\u001b[0m \u001b[0mflag\u001b[0m\u001b[0;34m=\u001b[0m\u001b[0;36m0\u001b[0m\u001b[0;34m\u001b[0m\u001b[0;34m\u001b[0m\u001b[0m\n\u001b[1;32m      8\u001b[0m \u001b[0;32mfor\u001b[0m \u001b[0mpath\u001b[0m \u001b[0;32min\u001b[0m \u001b[0mpaths\u001b[0m\u001b[0;34m:\u001b[0m\u001b[0;34m\u001b[0m\u001b[0;34m\u001b[0m\u001b[0m\n\u001b[0;32m----> 9\u001b[0;31m     \u001b[0;32mfor\u001b[0m \u001b[0mfile\u001b[0m \u001b[0;32min\u001b[0m \u001b[0mos\u001b[0m\u001b[0;34m.\u001b[0m\u001b[0mlistdir\u001b[0m\u001b[0;34m(\u001b[0m\u001b[0mpath\u001b[0m\u001b[0;34m)\u001b[0m\u001b[0;34m:\u001b[0m\u001b[0;34m\u001b[0m\u001b[0;34m\u001b[0m\u001b[0m\n\u001b[0m\u001b[1;32m     10\u001b[0m         \u001b[0mf1\u001b[0m \u001b[0;34m=\u001b[0m \u001b[0mos\u001b[0m\u001b[0;34m.\u001b[0m\u001b[0mpath\u001b[0m\u001b[0;34m.\u001b[0m\u001b[0mjoin\u001b[0m\u001b[0;34m(\u001b[0m\u001b[0mpath\u001b[0m\u001b[0;34m,\u001b[0m \u001b[0mfile\u001b[0m\u001b[0;34m)\u001b[0m\u001b[0;34m\u001b[0m\u001b[0;34m\u001b[0m\u001b[0m\n\u001b[1;32m     11\u001b[0m         \u001b[0;32mif\u001b[0m \u001b[0;34m'.log'\u001b[0m \u001b[0;32min\u001b[0m \u001b[0mf1\u001b[0m\u001b[0;34m:\u001b[0m\u001b[0;34m\u001b[0m\u001b[0;34m\u001b[0m\u001b[0m\n",
      "\u001b[0;31mFileNotFoundError\u001b[0m: [Errno 2] No such file or directory: './newsqa/search'"
     ]
    }
   ],
   "source": [
    "import os\n",
    "dataset = 'newsqa'\n",
    "paths = ['./' + dataset +'/'+'search', './' + dataset +'/'+'emnlp', \\\n",
    "         './' + dataset +'/'+'4gpu', './' + dataset +'/'+'kendra']\n",
    "\n",
    "\n",
    "flag=0\n",
    "for path in paths:\n",
    "    for file in os.listdir(path):\n",
    "        f1 = os.path.join(path, file)\n",
    "        if '.log' in f1:\n",
    "            r1, em1, fs1 = read_rc_log(f1,flag)\n",
    "            if len(r1)==0:\n",
    "                os.remove(f1)\n",
    "#             print(f1, len(r1))\n",
    "# print(f1)\n",
    "# f1 = os.path.join(path, '1_least_0.01_2_3e-05_sub0_run.log')\n",
    "# r1, em1, fs1 = read_rc_log(f1,flag)\n",
    "# print(f1, len(r1))\n",
    "# f1 = os.path.join(path, '1_margin_0.01_2_3e-05_sub0_run.log')\n",
    "# r1, em1, fs1 = read_rc_log(f1,flag)\n",
    "# print(f1, len(r1))\n",
    "# f1 = os.path.join(path, '1_random_0.01_2_3e-05_sub0_run.log')\n",
    "# r1, em1, fs1 = read_rc_log(f1,flag)\n",
    "# print(f1, len(r1))\n"
   ]
  },
  {
   "cell_type": "code",
   "execution_count": 27,
   "metadata": {},
   "outputs": [
    {
     "name": "stderr",
     "output_type": "stream",
     "text": [
      "/usr/local/lib/python3.7/site-packages/ipykernel_launcher.py:31: UserWarning: Matplotlib is currently using module://ipykernel.pylab.backend_inline, which is a non-GUI backend, so cannot show the figure.\n"
     ]
    },
    {
     "data": {
      "image/png": "[encoded data removed]",
      "text/plain": [
       "<Figure size 432x288 with 1 Axes>"
      ]
     },
     "metadata": {},
     "output_type": "display_data"
    }
   ],
   "source": [
    "beyond = './nq/emnlp/1_beyond_0.01_2_3e-05_sub0_run.log'\n",
    "entropy = './nq/search/1_entropy_0.01_2_3e-05_sub0_run.log'\n",
    "least = './nq/search/1_least_0.01_2_3e-05_sub0_run.log'\n",
    "random = './nq/4gpu/1_random_0.01_2_3e-05_sub0_run.log'\n",
    "badge = './nq/4gpu/1_bald_dropout_0.01_2_3e-05_sub0_run.log'\n",
    "margin = './nq/emnlp/2_margin_bert-base-uncased_i10000_q100000.01_2_3e-05_sub0_run.log'\n",
    "\n",
    "# example\n",
    "margin_r,margin_em, margin_f=read_rc_log(margin)\n",
    "random_r,random_em, random_f=read_rc_log(random)\n",
    "least_r, least_em, least_f=read_rc_log(least)\n",
    "entro_r,entro_em, entro_f=read_rc_log(entropy)\n",
    "bald_r,bald_em,bald_f=read_rc_log(badge)\n",
    "by_r,by_em,by_f=read_rc_log(beyond)\n",
    "# n = 12\n",
    "n = 7\n",
    "emf = {'#Labels queried':(np.array(margin_r)*10000+10000)[:n],'Badge': bald_f[:n], 'Conf': least_f[:n], \\\n",
    "      'Entropy': entro_f[:n],'Margin': margin_f[:n],'Rand': random_f[:n],'Ours':by_f[:n]}\n",
    "emfpd = pd.DataFrame(data=emf)\n",
    "data = 'Natural Questions'\n",
    "\n",
    "\n",
    "palette=sns.color_palette(\"Paired\")[:6]\n",
    "# sns.set_style(\"whitegrid\")darkgrid, whitegrid, dark, white, ticks}\n",
    "sns.set( style='whitegrid', color_codes=True, rc={\"lines.linewidth\": 2.2},font_scale = 1.3)\n",
    "dffs = emfpd.melt('#Labels queried', var_name='Methods',  value_name='F1')\n",
    "gfs = sns.lineplot(x=\"#Labels queried\", y=\"F1\", hue='Methods',palette=palette,  data=dffs)\n",
    "gfs.set_title(data)\n",
    "\n",
    "figfs = gfs.get_figure()\n",
    "figfs.show()\n",
    "figfs.savefig(os.path.join(\"./\",dataset + \"_fs_\" + str(n)+\".pdf\"),bbox_inches='tight')\n",
    "\n",
    "# em = {'#Labels queried':(np.array(margin_r)*10000+10000)[:n],'Badge': bald_em[:n], 'Conf': least_em[:n], \\\n",
    "#      'Entropy': entro_em[:n],'Margin': margin_em[:n],'Rand': random_em[:n],'Ours':by_em[:n]}\n",
    "# empd = pd.DataFrame(data=em)\n",
    "# palette=sns.color_palette(\"Paired\")[:6]\n",
    "# # sns.set_style(\"whitegrid\")darkgrid, whitegrid, dark, white, ticks}\n",
    "# sns.set( style='whitegrid', color_codes=True, rc={\"lines.linewidth\": 2.2},font_scale = 1.3)\n",
    "# df = empd.melt('#Labels queried', var_name='Methods',  value_name='EM')\n",
    "# gem = sns.lineplot(x=\"#Labels queried\", y=\"EM\", hue='Methods',palette=palette,  data=df)\n",
    "# # gem.set_xticklabels(np.concatenate([[0], np.arange(1000,30000,2000)]))\n",
    "# # gem.set_yticklabels(np.concatenate([[0], np.arange(30,80,5)]))\n",
    "# gem.set_title(data)\n",
    "\n",
    "# figem = gem.get_figure()\n",
    "# figem.show()\n",
    "# figem.savefig(os.path.join(\"./\", data +\"_em_\" + str(n)+\".pdf\"),bbox_inches='tight')\n",
    "\n"
   ]
  },
  {
   "cell_type": "code",
   "execution_count": 8,
   "metadata": {},
   "outputs": [
    {
     "ename": "NameError",
     "evalue": "name 'init' is not defined",
     "output_type": "error",
     "traceback": [
      "\u001b[0;31m-----------------------------------------------------------\u001b[0m",
      "\u001b[0;31mNameError\u001b[0m                 Traceback (most recent call last)",
      "\u001b[0;32m<ipython-input-8-cfb76441441a>\u001b[0m in \u001b[0;36m<module>\u001b[0;34m\u001b[0m\n\u001b[1;32m      4\u001b[0m \u001b[0;31m# n = 18\u001b[0m\u001b[0;34m\u001b[0m\u001b[0;34m\u001b[0m\u001b[0;34m\u001b[0m\u001b[0m\n\u001b[1;32m      5\u001b[0m \u001b[0;31m# random = os.path.join(path, dataset+'/1_random_bert-base-uncased_i'+str(init)+'_q'+str(num)+'0.01_0_3e-05_sub0_run.log')\u001b[0m\u001b[0;34m\u001b[0m\u001b[0;34m\u001b[0m\u001b[0;34m\u001b[0m\u001b[0m\n\u001b[0;32m----> 6\u001b[0;31m \u001b[0mmargin\u001b[0m \u001b[0;34m=\u001b[0m \u001b[0mos\u001b[0m\u001b[0;34m.\u001b[0m\u001b[0mpath\u001b[0m\u001b[0;34m.\u001b[0m\u001b[0mjoin\u001b[0m\u001b[0;34m(\u001b[0m\u001b[0mpath\u001b[0m\u001b[0;34m,\u001b[0m \u001b[0mdataset\u001b[0m\u001b[0;34m+\u001b[0m\u001b[0;34m'/1_margin_bert-base-uncased_i'\u001b[0m\u001b[0;34m+\u001b[0m\u001b[0mstr\u001b[0m\u001b[0;34m(\u001b[0m\u001b[0minit\u001b[0m\u001b[0;34m)\u001b[0m\u001b[0;34m+\u001b[0m\u001b[0;34m'_q'\u001b[0m\u001b[0;34m+\u001b[0m\u001b[0mstr\u001b[0m\u001b[0;34m(\u001b[0m\u001b[0mnum\u001b[0m\u001b[0;34m)\u001b[0m\u001b[0;34m+\u001b[0m\u001b[0;34m'0.01_0_3e-05_sub0_run.log'\u001b[0m\u001b[0;34m)\u001b[0m\u001b[0;34m\u001b[0m\u001b[0;34m\u001b[0m\u001b[0m\n\u001b[0m\u001b[1;32m      7\u001b[0m \u001b[0;34m\u001b[0m\u001b[0m\n\u001b[1;32m      8\u001b[0m \u001b[0;31m# dataset = 'newsqa'\u001b[0m\u001b[0;34m\u001b[0m\u001b[0;34m\u001b[0m\u001b[0;34m\u001b[0m\u001b[0m\n",
      "\u001b[0;31mNameError\u001b[0m: name 'init' is not defined"
     ]
    }
   ],
   "source": [
    "# dataset = 'squad'\n",
    "# init=1000\n",
    "# num = 5000\n",
    "# n = 18\n",
    "# random = os.path.join(path, dataset+'/1_random_bert-base-uncased_i'+str(init)+'_q'+str(num)+'0.01_0_3e-05_sub0_run.log')\n",
    "margin = os.path.join(path, dataset+'/1_margin_bert-base-uncased_i'+str(init)+'_q'+str(num)+'0.01_0_3e-05_sub0_run.log')\n",
    "\n",
    "# dataset = 'newsqa'\n",
    "dataset = 'nq'\n",
    "init=10000\n",
    "num = 15000\n",
    "n = 13\n",
    "path = 'results/'\n",
    "random = os.path.join(path, dataset+'/1_random_bert-base-uncased_i'+str(init)+'_q'+str(num)+'0.01_2_3e-05_sub0_run.log')\n",
    "margin = os.path.join(path, dataset+'/1_margin_bert-base-uncased_i'+str(init)+'_q'+str(num)+'0.01_2_3e-05_sub0_run.log')\n",
    "\n",
    "# example\n",
    "margin_r,margin_em, margin_f=read_rc_log(margin)\n",
    "random_r,random_em, random_f=read_rc_log(random)\n",
    "\n",
    "flag = 1\n",
    "if flag == 0:\n",
    "    emf = {'#Labels queried':(np.array(margin_r)*num+init)[:n],\\\n",
    "       'Margin': margin_f[:n],'Rand': random_f[:n]}\n",
    "    emfpd = pd.DataFrame(data=emf)\n",
    "else:\n",
    "    em = {'#Labels queried':(np.array(margin_r)*num+init)[:n],\\\n",
    "       'Margin': margin_em[:n],'Rand': random_em[:n]}\n",
    "    empd = pd.DataFrame(data=em)\n",
    "\n",
    "\n",
    "palette=sns.color_palette(\"Paired\")[:2]\n",
    "# sns.set_style(\"whitegrid\")darkgrid, whitegrid, dark, white, ticks}\n",
    "sns.set( style='whitegrid', color_codes=True, rc={\"lines.linewidth\": 2.2},font_scale = 1.3)\n",
    "\n",
    "if flag == 0:\n",
    "    dffs = emfpd.melt('#Labels queried', var_name='Methods',  value_name='F1')\n",
    "    gfs = sns.lineplot(x=\"#Labels queried\", y=\"F1\", hue='Methods',palette=palette,  data=dffs)\n",
    "else:\n",
    "    dffs = empd.melt('#Labels queried', var_name='Methods',  value_name='EM')\n",
    "    gfs = sns.lineplot(x=\"#Labels queried\", y=\"EM\", hue='Methods',palette=palette,  data=dffs)\n",
    "\n",
    "gfs.set_title(dataset)\n",
    "\n",
    "textstr = str(num)\n",
    "\n",
    "figfs = gfs.get_figure()\n",
    "figfs.text(0.4, 0.5, 'init='+str(init)+',query='+str(num), fontsize=15)\n",
    "figfs.show()\n",
    "if flag==0:\n",
    "    figfs.savefig(os.path.join(path,'figures/'+dataset + \"_fs_\" + str(num)+\"_\"+str(n)+\".pdf\"),bbox_inches='tight')\n",
    "else:\n",
    "    figfs.savefig(os.path.join(path,'figures/'+dataset + \"_em_\" + str(num)+\"_\"+str(n)+\".pdf\"),bbox_inches='tight')\n"
   ]
  }
 ],
 "metadata": {
  "kernelspec": {
   "display_name": "Python 3",
   "language": "python",
   "name": "python3"
  },
  "language_info": {
   "codemirror_mode": {
    "name": "ipython",
    "version": 3
   },
   "file_extension": ".py",
   "mimetype": "text/x-python",
   "name": "python",
   "nbconvert_exporter": "python",
   "pygments_lexer": "ipython3",
   "version": "3.7.4"
  }
 },
 "nbformat": 4,
 "nbformat_minor": 2
}
