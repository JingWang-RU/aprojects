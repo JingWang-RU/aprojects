{
 "cells": [
  {
   "cell_type": "code",
   "execution_count": 64,
   "metadata": {},
   "outputs": [],
   "source": [
    "import os\n",
    "from collections import defaultdict \n",
    "import pandas as pd\n",
    "\n",
    "def read_log(resultlog):\n",
    "    new_data = [] \n",
    "    with open(resultlog, \"r\") as f: \n",
    "        query, mmap = [], []\n",
    "        recall, strategy = defaultdict(list), defaultdict(list)\n",
    "        precision = defaultdict(list)\n",
    "        ndcg = defaultdict(list)\n",
    "        j = -1\n",
    "        lines = f.readlines()    \n",
    "        for line in lines: \n",
    "            tmp = line.split()\n",
    "            if line.startswith(\"***\",0,3):\n",
    "                strategy[j].append( tmp[1] + tmp[2])\n",
    "            elif line.startswith(\"query\",0,5):\n",
    "                tmp_va = tmp[0]+ ' ' + tmp[1] +' ' +tmp[3]+tmp[4]+tmp[5]\n",
    "                if ( tmp_va ) not in query:\n",
    "                    query.append( tmp_va )\n",
    "                    j = j + 1\n",
    "            elif line.startswith(\"map\",0,3):\n",
    "                mmap.append(tmp[2])\n",
    "            elif line.startswith(\"P_\",0,2):\n",
    "                precision[tmp[0]].append(tmp[2])\n",
    "            elif line.startswith(\"recall\",0,6):\n",
    "                recall[tmp[0]].append(tmp[2])\n",
    "            elif line.startswith(\"ndcg\",0,4):\n",
    "                ndcg[tmp[0]].append(tmp[2])\n",
    "            \n",
    "    return query, mmap, recall, strategy, precision, ndcg\n",
    "\n",
    "path = \"EXP\"\n",
    "result_file = os.path.join(path, 'result.log')\n",
    "query, mmap, recall, strategy, precision, ndcg = read_log(result_file)\n"
   ]
  },
  {
   "cell_type": "code",
   "execution_count": 92,
   "metadata": {},
   "outputs": [],
   "source": [
    "queryilstra = []\n",
    "newquery =[]\n",
    "for i in range(len(query)):\n",
    "    for x in strategy[i]:\n",
    "        queryilstra.append(query[i] + ' ' + x)\n",
    "        newquery.append(query[i].split()[1])\n",
    "\n",
    "inc = []\n",
    "newstrategy = []\n",
    "for x in queryilstra:\n",
    "    inc.append(x.split()[2])\n",
    "    newstrategy.append(x.split()[3])\n",
    "\n",
    "tmpdata = precision\n",
    "tmpdata.update(ndcg)\n",
    "tmpdata.update(recall)\n",
    "\n",
    "data = pd.DataFrame(data = tmpdata)\n",
    "data.insert(0,\"query size\", newquery)\n",
    "data.insert(1,\"IL/BERT/Linear\", inc)\n",
    "data.insert(2,\"strategy\", newstrategy)\n",
    "data.insert(3, \"map\", mmap) \n",
    "\n",
    "data.to_csv('result_dataframe.csv')"
   ]
  }
 ],
 "metadata": {
  "kernelspec": {
   "display_name": "Python 3",
   "language": "python",
   "name": "python3"
  },
  "language_info": {
   "codemirror_mode": {
    "name": "ipython",
    "version": 3
   },
   "file_extension": ".py",
   "mimetype": "text/x-python",
   "name": "python",
   "nbconvert_exporter": "python",
   "pygments_lexer": "ipython3",
   "version": "3.7.4"
  }
 },
 "nbformat": 4,
 "nbformat_minor": 4
}
